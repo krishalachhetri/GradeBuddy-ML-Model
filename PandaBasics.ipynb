{
 "cells": [
  {
   "cell_type": "code",
   "execution_count": 1,
   "id": "f2d6d5d1-89d8-4734-ad52-ea5999100fb4",
   "metadata": {
    "jupyter": {
     "source_hidden": true
    }
   },
   "outputs": [],
   "source": [
    "import pandas as pd"
   ]
  },
  {
   "cell_type": "code",
   "execution_count": 5,
   "id": "84dd0203-b460-41f4-af1a-032c690a4cfe",
   "metadata": {},
   "outputs": [
    {
     "data": {
      "text/plain": [
       "'2.2.2'"
      ]
     },
     "execution_count": 5,
     "metadata": {},
     "output_type": "execute_result"
    }
   ],
   "source": [
    "pd.__version__"
   ]
  },
  {
   "cell_type": "code",
   "execution_count": 7,
   "id": "6e4912cf-eb29-48b6-87ca-a10084bf4f64",
   "metadata": {},
   "outputs": [
    {
     "name": "stdout",
     "output_type": "stream",
     "text": [
      "[1, 2, 3, 4, 5, 6]\n"
     ]
    }
   ],
   "source": [
    "lst = [1,2,3,4,5,6]\n",
    "print(lst)"
   ]
  },
  {
   "cell_type": "code",
   "execution_count": 13,
   "id": "899f4db1-4497-431f-8ba0-a2627bb3404f",
   "metadata": {},
   "outputs": [
    {
     "name": "stdout",
     "output_type": "stream",
     "text": [
      "0    1\n",
      "1    2\n",
      "2    3\n",
      "3    4\n",
      "4    5\n",
      "5    6\n",
      "dtype: int64\n",
      "<class 'pandas.core.series.Series'>\n"
     ]
    }
   ],
   "source": [
    "series = pd.Series(lst)\n",
    "print(series)\n",
    "print(type(series))"
   ]
  },
  {
   "cell_type": "code",
   "execution_count": 15,
   "id": "03699379-7aeb-4c5b-b28a-ce962a5760d4",
   "metadata": {},
   "outputs": [
    {
     "name": "stdout",
     "output_type": "stream",
     "text": [
      "Series([], dtype: object)\n"
     ]
    }
   ],
   "source": [
    "empty = pd.Series([])\n",
    "print(empty)"
   ]
  },
  {
   "cell_type": "code",
   "execution_count": 29,
   "id": "50c1fea0-8718-4a0d-9556-b69f45e5f3de",
   "metadata": {},
   "outputs": [
    {
     "name": "stdout",
     "output_type": "stream",
     "text": [
      "10    p\n",
      "11    q\n",
      "12    r\n",
      "13    s\n",
      "14    t\n",
      "Name: alphabets, dtype: object\n"
     ]
    }
   ],
   "source": [
    "a = pd.Series(['p','q','r','s','t'], index = [10,11,12,13,14],name='alphabets')\n",
    "print(a)"
   ]
  },
  {
   "cell_type": "code",
   "execution_count": 31,
   "id": "ab2d61b2-87cf-4f16-bc2d-0d39c9ed66b7",
   "metadata": {},
   "outputs": [
    {
     "name": "stdout",
     "output_type": "stream",
     "text": [
      "12    0.5\n",
      "13    0.5\n",
      "14    0.5\n",
      "dtype: float64\n"
     ]
    }
   ],
   "source": [
    "scalar_series = pd.Series(0.5,index=[12,13,14])\n",
    "print(scalar_series)"
   ]
  },
  {
   "cell_type": "markdown",
   "id": "27e1ec10-fc59-406c-be52-052fc4dd8aa9",
   "metadata": {},
   "source": [
    "## PANDAS SERIES USING DICTIONARY ##"
   ]
  },
  {
   "cell_type": "code",
   "execution_count": 40,
   "id": "b3c38066-59e2-4bea-9979-948d3a83bfac",
   "metadata": {},
   "outputs": [
    {
     "name": "stdout",
     "output_type": "stream",
     "text": [
      "p    1\n",
      "q    2\n",
      "r    3\n",
      "s    4\n",
      "dtype: int64\n"
     ]
    }
   ],
   "source": [
    "dict_series = pd.Series({'p':1, 'q':2, 'r':3, 's':4})\n",
    "print(dict_series)"
   ]
  },
  {
   "cell_type": "code",
   "execution_count": 42,
   "id": "61446d89-40d0-4cbf-8d15-756c54ae42a4",
   "metadata": {},
   "outputs": [
    {
     "name": "stdout",
     "output_type": "stream",
     "text": [
      "{'p': 1, 'q': 2, 'r': 3, 's': 4}\n"
     ]
    }
   ],
   "source": [
    "reg_dict = {'p':1, 'q':2, 'r':3, 's':4}\n",
    "print(reg_dict)"
   ]
  },
  {
   "cell_type": "code",
   "execution_count": 64,
   "id": "caf5aa52-4c30-4f52-9d29-1f2f50bcfe76",
   "metadata": {},
   "outputs": [
    {
     "name": "stderr",
     "output_type": "stream",
     "text": [
      "/var/folders/q4/j6h9bdrs0js_wxxtsb_1cyf80000gn/T/ipykernel_5467/1198263229.py:1: FutureWarning: Series.__getitem__ treating keys as positions is deprecated. In a future version, integer keys will always be treated as labels (consistent with DataFrame behavior). To access a value by position, use `ser.iloc[pos]`\n",
      "  dict_series[0]\n"
     ]
    },
    {
     "data": {
      "text/plain": [
       "1"
      ]
     },
     "execution_count": 64,
     "metadata": {},
     "output_type": "execute_result"
    }
   ],
   "source": [
    "dict_series[0]"
   ]
  },
  {
   "cell_type": "code",
   "execution_count": null,
   "id": "38ea10bf-6df7-41d7-b5bc-591acfda4f76",
   "metadata": {},
   "outputs": [],
   "source": []
  },
  {
   "cell_type": "code",
   "execution_count": null,
   "id": "cfd40aa0-8140-44e9-a40b-b3f39b1a22fd",
   "metadata": {},
   "outputs": [],
   "source": []
  },
  {
   "cell_type": "code",
   "execution_count": 54,
   "id": "fe97c211-23fa-4ca5-95a7-9fb6a7f89c54",
   "metadata": {},
   "outputs": [
    {
     "data": {
      "text/plain": [
       "p    1\n",
       "q    2\n",
       "r    3\n",
       "dtype: int64"
      ]
     },
     "execution_count": 54,
     "metadata": {},
     "output_type": "execute_result"
    }
   ],
   "source": [
    "dict_series[0:3]"
   ]
  },
  {
   "cell_type": "code",
   "execution_count": 56,
   "id": "8ef10c5d-5124-424b-a8a4-ca0ae08d92d0",
   "metadata": {},
   "outputs": [
    {
     "data": {
      "text/plain": [
       "4"
      ]
     },
     "execution_count": 56,
     "metadata": {},
     "output_type": "execute_result"
    }
   ],
   "source": [
    "max(dict_series)"
   ]
  },
  {
   "cell_type": "code",
   "execution_count": 62,
   "id": "06feb07f-7f08-42d3-9f67-b31d9a3507f1",
   "metadata": {},
   "outputs": [
    {
     "data": {
      "text/plain": [
       "p       [1, 5, 6]\n",
       "q      [7, 8, 10]\n",
       "r    [12, 11, 15]\n",
       "dtype: object"
      ]
     },
     "execution_count": 62,
     "metadata": {},
     "output_type": "execute_result"
    }
   ],
   "source": [
    "dict_series2 = pd.Series({'p':[1,5,6],'q':[7,8,10],'r':[12,11,15]})\n",
    "dict_series2"
   ]
  },
  {
   "cell_type": "markdown",
   "id": "09b8e9a9-6460-47d2-aeb1-1de868641fd0",
   "metadata": {},
   "source": [
    "## Pandas DataFrame ##"
   ]
  },
  {
   "cell_type": "code",
   "execution_count": 80,
   "id": "40ac10c9-5b6a-4eea-aac0-05ff120b21fe",
   "metadata": {},
   "outputs": [
    {
     "name": "stdout",
     "output_type": "stream",
     "text": [
      "Empty DataFrame\n",
      "Columns: []\n",
      "Index: []\n"
     ]
    }
   ],
   "source": [
    "df = pd.DataFrame()\n",
    "print(df)"
   ]
  },
  {
   "cell_type": "markdown",
   "id": "ebb9e8b3-d530-4acb-b1bd-83034f2c6490",
   "metadata": {},
   "source": [
    "## Data frame using List ##"
   ]
  },
  {
   "cell_type": "code",
   "execution_count": 91,
   "id": "c5336448-2809-4c77-bdca-c378889ec50e",
   "metadata": {},
   "outputs": [
    {
     "name": "stdout",
     "output_type": "stream",
     "text": [
      "   0\n",
      "0  1\n",
      "1  2\n",
      "2  3\n",
      "3  4\n",
      "4  5\n"
     ]
    }
   ],
   "source": [
    "lst = [1,2,3,4,5]\n",
    "df = pd.DataFrame(lst)\n",
    "print(df)"
   ]
  },
  {
   "cell_type": "code",
   "execution_count": 93,
   "id": "f3dd7e34-82ea-47c3-a6c8-719569c44c74",
   "metadata": {},
   "outputs": [
    {
     "name": "stdout",
     "output_type": "stream",
     "text": [
      "    0   1   2   3   4\n",
      "0   1   2   3   4   5\n",
      "1  11  12  13  14  15\n"
     ]
    }
   ],
   "source": [
    "lst2 = [[1,2,3,4,5],[11,12,13,14,15]]\n",
    "df = pd.DataFrame(lst2)\n",
    "print(df)"
   ]
  },
  {
   "cell_type": "markdown",
   "id": "8c5f1ebc-c96e-47a7-b7f8-e0f289bca7d4",
   "metadata": {},
   "source": [
    "## Dataframe Using the Dictionary ##"
   ]
  },
  {
   "cell_type": "code",
   "execution_count": 98,
   "id": "816a23f0-bc21-430e-9726-63c6b9b758dd",
   "metadata": {},
   "outputs": [
    {
     "name": "stdout",
     "output_type": "stream",
     "text": [
      "   a  b  c  d\n",
      "0  5  7  8  9\n",
      "1  4  3  6  9\n"
     ]
    }
   ],
   "source": [
    "lst3 = [{'a':5, 'b':7, 'c':8, 'd':9}, {'a':4,'b':3,'c':6, 'd':9}] #Dictionary keys represents column names\n",
    "df = pd.DataFrame(lst3)\n",
    "print(df)"
   ]
  },
  {
   "cell_type": "code",
   "execution_count": 116,
   "id": "cf2a993b-ff2a-4d74-ba14-c2b694d975ba",
   "metadata": {},
   "outputs": [
    {
     "name": "stdout",
     "output_type": "stream",
     "text": [
      "   Roll no  Maths  Physics\n",
      "0        1     67       12\n",
      "1        2     89       93\n",
      "2        3     34      100\n",
      "3        4     89       54\n",
      "4        5     50       69\n"
     ]
    }
   ],
   "source": [
    "lst4 = {'Roll no':pd.Series([1,2,3,4,5]),'Maths':pd.Series([67,89,34,89,50]),'Physics':pd.Series([12,93,100,54,69])}\n",
    "df = pd.DataFrame(lst4)\n",
    "print(df)"
   ]
  },
  {
   "cell_type": "markdown",
   "id": "a52c1f54-8053-41c0-8fb6-e7bd9ec968af",
   "metadata": {},
   "source": [
    "## Reading CSV (common Separated Values) as DATA FRAMES ##"
   ]
  },
  {
   "cell_type": "code",
   "execution_count": null,
   "id": "6aef4007-36ff-4884-b8f4-f2977739abc5",
   "metadata": {},
   "outputs": [],
   "source": []
  },
  {
   "cell_type": "code",
   "execution_count": null,
   "id": "6cb9154b-67cd-449d-b729-0778dae12203",
   "metadata": {},
   "outputs": [],
   "source": []
  },
  {
   "cell_type": "code",
   "execution_count": null,
   "id": "56d72dfc-c65a-4672-ad11-f797ffa9ee5d",
   "metadata": {},
   "outputs": [],
   "source": []
  },
  {
   "cell_type": "code",
   "execution_count": null,
   "id": "15b70f7d-f6db-4165-a93e-97dbef018f99",
   "metadata": {},
   "outputs": [],
   "source": []
  },
  {
   "cell_type": "code",
   "execution_count": null,
   "id": "061968a8-7bd5-4f4f-a4dd-1cdbc11b036f",
   "metadata": {},
   "outputs": [],
   "source": []
  },
  {
   "cell_type": "code",
   "execution_count": null,
   "id": "69550a22-735e-4b89-9b75-782faeb096ea",
   "metadata": {},
   "outputs": [],
   "source": []
  },
  {
   "cell_type": "code",
   "execution_count": null,
   "id": "b24fcf5d-625e-4661-885d-f81753dc08ea",
   "metadata": {},
   "outputs": [],
   "source": []
  },
  {
   "cell_type": "code",
   "execution_count": null,
   "id": "b1540a64-745a-4eff-ba31-c49fb17dbf3f",
   "metadata": {},
   "outputs": [],
   "source": []
  },
  {
   "cell_type": "code",
   "execution_count": null,
   "id": "266db0fa-6395-4ccc-a02f-6a3c873795e8",
   "metadata": {},
   "outputs": [],
   "source": []
  },
  {
   "cell_type": "code",
   "execution_count": null,
   "id": "24a54f43-a3e7-413c-99bc-860beaf16478",
   "metadata": {},
   "outputs": [],
   "source": []
  },
  {
   "cell_type": "code",
   "execution_count": null,
   "id": "f812e1b8-cca2-4048-9f66-ac859e6a6953",
   "metadata": {},
   "outputs": [],
   "source": []
  },
  {
   "cell_type": "code",
   "execution_count": null,
   "id": "c003b890-20b5-44e0-9885-1980435cdeb9",
   "metadata": {},
   "outputs": [],
   "source": []
  },
  {
   "cell_type": "code",
   "execution_count": null,
   "id": "f495702c-2fec-4b03-a73c-ec1ca4195d5d",
   "metadata": {},
   "outputs": [],
   "source": []
  },
  {
   "cell_type": "code",
   "execution_count": null,
   "id": "2b42d522-a703-4949-8c82-d201ea6aef4f",
   "metadata": {},
   "outputs": [],
   "source": []
  },
  {
   "cell_type": "code",
   "execution_count": null,
   "id": "e9766293-8bb2-4964-8369-65aa41c485eb",
   "metadata": {},
   "outputs": [],
   "source": []
  },
  {
   "cell_type": "code",
   "execution_count": null,
   "id": "2f0b395a-e74c-4d66-a543-6a7df7ebbad2",
   "metadata": {},
   "outputs": [],
   "source": []
  }
 ],
 "metadata": {
  "kernelspec": {
   "display_name": "Python [conda env:base] *",
   "language": "python",
   "name": "conda-base-py"
  },
  "language_info": {
   "codemirror_mode": {
    "name": "ipython",
    "version": 3
   },
   "file_extension": ".py",
   "mimetype": "text/x-python",
   "name": "python",
   "nbconvert_exporter": "python",
   "pygments_lexer": "ipython3",
   "version": "3.12.7"
  }
 },
 "nbformat": 4,
 "nbformat_minor": 5
}
